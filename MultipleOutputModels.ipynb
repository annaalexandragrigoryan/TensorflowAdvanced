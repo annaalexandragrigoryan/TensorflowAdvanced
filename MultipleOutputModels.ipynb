{
 "cells": [
  {
   "cell_type": "markdown",
   "metadata": {
    "colab_type": "text",
    "id": "ZL_6GK8qX35J"
   },
   "source": [
    "\n",
    "\n",
    "# Multiple Output Models using the Keras Functional API"
   ]
  },
  {
   "cell_type": "code",
   "execution_count": 1,
   "metadata": {
    "colab": {},
    "colab_type": "code",
    "id": "t8N3pcTQ5oQI"
   },
   "outputs": [],
   "source": [
    "import tensorflow as tf\n",
    "from tensorflow.keras.models import Model\n",
    "from tensorflow.keras.layers import Dense, Input\n",
    "\n",
    "import numpy as np\n",
    "import matplotlib.pyplot as plt\n",
    "import pandas as pd\n",
    "from sklearn.model_selection import train_test_split\n",
    "from sklearn.metrics import confusion_matrix, ConfusionMatrixDisplay\n",
    "import itertools\n",
    "\n",
    "import utils"
   ]
  },
  {
   "cell_type": "code",
   "execution_count": 3,
   "metadata": {
    "colab": {},
    "colab_type": "code",
    "deletable": false,
    "id": "2qYAjKXCd4RH",
    "nbgrader": {
     "cell_type": "code",
     "checksum": "325ea195519b7035934c95bb529a062c",
     "grade": false,
     "grade_id": "cell-e5bfa0f152d9a21f",
     "locked": false,
     "schema_version": 3,
     "solution": true,
     "task": false
    }
   },
   "outputs": [],
   "source": [
    "# URL of the white wine dataset\n",
    "URI = './winequality-white.csv'\n",
    "\n",
    "# # load the dataset from the URL\n",
    "white_df = pd.read_csv(URI, sep=\";\")\n",
    "\n",
    "# fill the `is_red` column with zeros.\n",
    "white_df[\"is_red\"] = 0\n",
    "\n",
    "# keep only the first of duplicate items\n",
    "white_df = white_df.drop_duplicates(keep='first')\n"
   ]
  },
  {
   "cell_type": "code",
   "execution_count": 6,
   "metadata": {
    "colab": {},
    "colab_type": "code",
    "deletable": false,
    "id": "8y3QxKwBed8v",
    "nbgrader": {
     "cell_type": "code",
     "checksum": "12e0963d15be33b01b4e6ebc8945e51e",
     "grade": false,
     "grade_id": "cell-e47a40f306593274",
     "locked": false,
     "schema_version": 3,
     "solution": true,
     "task": false
    }
   },
   "outputs": [],
   "source": [
    "# URL of the red wine dataset\n",
    "URI = './winequality-red.csv'\n",
    "\n",
    "# load the dataset from the URL\n",
    "red_df = pd.read_csv(URI, sep=\";\")\n",
    "\n",
    "# fill the `is_red` column with ones.\n",
    "red_df[\"is_red\"] = 1\n",
    "\n",
    "# keep only the first of duplicate items\n",
    "red_df = red_df.drop_duplicates(keep='first')\n"
   ]
  },
  {
   "cell_type": "code",
   "execution_count": 9,
   "metadata": {
    "colab": {},
    "colab_type": "code",
    "id": "YpQrOjJbfN3m"
   },
   "outputs": [],
   "source": [
    "df = pd.concat([red_df, white_df], ignore_index=True)"
   ]
  },
  {
   "cell_type": "code",
   "execution_count": 11,
   "metadata": {
    "colab": {},
    "colab_type": "code",
    "id": "IsvK0-Sgy17C"
   },
   "outputs": [
    {
     "data": {
      "image/png": "[encoded data removed]",
      "text/plain": [
       "<Figure size 432x288 with 1 Axes>"
      ]
     },
     "metadata": {
      "needs_background": "light"
     },
     "output_type": "display_data"
    }
   ],
   "source": [
    "df['quality'].hist(bins=20);"
   ]
  },
  {
   "cell_type": "code",
   "execution_count": 12,
   "metadata": {
    "colab": {},
    "colab_type": "code",
    "deletable": false,
    "id": "doH9_-gnf3sz",
    "nbgrader": {
     "cell_type": "code",
     "checksum": "d9ba9fc3a3ca02ccc567be33652b80fe",
     "grade": false,
     "grade_id": "cell-6a3e9db696f6827b",
     "locked": false,
     "schema_version": 3,
     "solution": true,
     "task": false
    }
   },
   "outputs": [],
   "source": [
    "# get data with wine quality greater than 4 and less than 8\n",
    "df = df[(df['quality'] > 4) & (df['quality'] < 8 )]\n",
    "\n",
    "# reset index and drop the old one\n",
    "df = df.reset_index(drop=True)"
   ]
  },
  {
   "cell_type": "code",
   "execution_count": 15,
   "metadata": {
    "colab": {},
    "colab_type": "code",
    "id": "857ygzZiLgGg"
   },
   "outputs": [
    {
     "data": {
      "image/png": "[encoded data removed]",
      "text/plain": [
       "<Figure size 432x288 with 1 Axes>"
      ]
     },
     "metadata": {
      "needs_background": "light"
     },
     "output_type": "display_data"
    }
   ],
   "source": [
    "df['quality'].hist(bins=20);"
   ]
  },
  {
   "cell_type": "code",
   "execution_count": 16,
   "metadata": {
    "colab": {},
    "colab_type": "code",
    "deletable": false,
    "id": "PAVIf2-fgRVY",
    "nbgrader": {
     "cell_type": "code",
     "checksum": "7f5738f4fb51d65adc9a8acbdf2b9970",
     "grade": false,
     "grade_id": "cell-91946cadf745206b",
     "locked": false,
     "schema_version": 3,
     "solution": true,
     "task": false
    }
   },
   "outputs": [],
   "source": [
    "# split df into 80:20 train and test sets\n",
    "train, test = train_test_split(df, test_size=0.2, random_state = 1)\n",
    "                               \n",
    "# split train into 80:20 train and val sets\n",
    "train, val = train_test_split(train, test_size=0.2, random_state = 1)"
   ]
  },
  {
   "cell_type": "code",
   "execution_count": 18,
   "metadata": {
    "colab": {},
    "colab_type": "code",
    "id": "Y_afyhhHM6WQ"
   },
   "outputs": [],
   "source": [
    "train_stats = train.describe()\n",
    "train_stats.pop('is_red')\n",
    "train_stats.pop('quality')\n",
    "train_stats = train_stats.transpose()"
   ]
  },
  {
   "cell_type": "code",
   "execution_count": 19,
   "metadata": {
    "colab": {},
    "colab_type": "code",
    "id": "n_gAtPjZ0otF"
   },
   "outputs": [
    {
     "data": {
      "text/html": [
       "<div>\n",
       "<style scoped>\n",
       "    .dataframe tbody tr th:only-of-type {\n",
       "        vertical-align: middle;\n",
       "    }\n",
       "\n",
       "    .dataframe tbody tr th {\n",
       "        vertical-align: top;\n",
       "    }\n",
       "\n",
       "    .dataframe thead th {\n",
       "        text-align: right;\n",
       "    }\n",
       "</style>\n",
       "<table border=\"1\" class=\"dataframe\">\n",
       "  <thead>\n",
       "    <tr style=\"text-align: right;\">\n",
       "      <th></th>\n",
       "      <th>count</th>\n",
       "      <th>mean</th>\n",
       "      <th>std</th>\n",
       "      <th>min</th>\n",
       "      <th>25%</th>\n",
       "      <th>50%</th>\n",
       "      <th>75%</th>\n",
       "      <th>max</th>\n",
       "    </tr>\n",
       "  </thead>\n",
       "  <tbody>\n",
       "    <tr>\n",
       "      <th>fixed acidity</th>\n",
       "      <td>3155.0</td>\n",
       "      <td>7.221616</td>\n",
       "      <td>1.325297</td>\n",
       "      <td>3.80000</td>\n",
       "      <td>6.40000</td>\n",
       "      <td>7.00000</td>\n",
       "      <td>7.7000</td>\n",
       "      <td>15.60000</td>\n",
       "    </tr>\n",
       "    <tr>\n",
       "      <th>volatile acidity</th>\n",
       "      <td>3155.0</td>\n",
       "      <td>0.338929</td>\n",
       "      <td>0.162476</td>\n",
       "      <td>0.08000</td>\n",
       "      <td>0.23000</td>\n",
       "      <td>0.29000</td>\n",
       "      <td>0.4000</td>\n",
       "      <td>1.24000</td>\n",
       "    </tr>\n",
       "    <tr>\n",
       "      <th>citric acid</th>\n",
       "      <td>3155.0</td>\n",
       "      <td>0.321569</td>\n",
       "      <td>0.147970</td>\n",
       "      <td>0.00000</td>\n",
       "      <td>0.25000</td>\n",
       "      <td>0.31000</td>\n",
       "      <td>0.4000</td>\n",
       "      <td>1.66000</td>\n",
       "    </tr>\n",
       "    <tr>\n",
       "      <th>residual sugar</th>\n",
       "      <td>3155.0</td>\n",
       "      <td>5.155911</td>\n",
       "      <td>4.639632</td>\n",
       "      <td>0.60000</td>\n",
       "      <td>1.80000</td>\n",
       "      <td>2.80000</td>\n",
       "      <td>7.6500</td>\n",
       "      <td>65.80000</td>\n",
       "    </tr>\n",
       "    <tr>\n",
       "      <th>chlorides</th>\n",
       "      <td>3155.0</td>\n",
       "      <td>0.056976</td>\n",
       "      <td>0.036802</td>\n",
       "      <td>0.01200</td>\n",
       "      <td>0.03800</td>\n",
       "      <td>0.04700</td>\n",
       "      <td>0.0660</td>\n",
       "      <td>0.61100</td>\n",
       "    </tr>\n",
       "    <tr>\n",
       "      <th>free sulfur dioxide</th>\n",
       "      <td>3155.0</td>\n",
       "      <td>30.388590</td>\n",
       "      <td>17.236784</td>\n",
       "      <td>1.00000</td>\n",
       "      <td>17.00000</td>\n",
       "      <td>28.00000</td>\n",
       "      <td>41.0000</td>\n",
       "      <td>131.00000</td>\n",
       "    </tr>\n",
       "    <tr>\n",
       "      <th>total sulfur dioxide</th>\n",
       "      <td>3155.0</td>\n",
       "      <td>115.062282</td>\n",
       "      <td>56.706617</td>\n",
       "      <td>6.00000</td>\n",
       "      <td>75.00000</td>\n",
       "      <td>117.00000</td>\n",
       "      <td>156.0000</td>\n",
       "      <td>344.00000</td>\n",
       "    </tr>\n",
       "    <tr>\n",
       "      <th>density</th>\n",
       "      <td>3155.0</td>\n",
       "      <td>0.994633</td>\n",
       "      <td>0.003005</td>\n",
       "      <td>0.98711</td>\n",
       "      <td>0.99232</td>\n",
       "      <td>0.99481</td>\n",
       "      <td>0.9968</td>\n",
       "      <td>1.03898</td>\n",
       "    </tr>\n",
       "    <tr>\n",
       "      <th>pH</th>\n",
       "      <td>3155.0</td>\n",
       "      <td>3.223201</td>\n",
       "      <td>0.161272</td>\n",
       "      <td>2.72000</td>\n",
       "      <td>3.11000</td>\n",
       "      <td>3.21000</td>\n",
       "      <td>3.3300</td>\n",
       "      <td>4.01000</td>\n",
       "    </tr>\n",
       "    <tr>\n",
       "      <th>sulphates</th>\n",
       "      <td>3155.0</td>\n",
       "      <td>0.534051</td>\n",
       "      <td>0.149149</td>\n",
       "      <td>0.22000</td>\n",
       "      <td>0.43000</td>\n",
       "      <td>0.51000</td>\n",
       "      <td>0.6000</td>\n",
       "      <td>1.95000</td>\n",
       "    </tr>\n",
       "    <tr>\n",
       "      <th>alcohol</th>\n",
       "      <td>3155.0</td>\n",
       "      <td>10.504466</td>\n",
       "      <td>1.154654</td>\n",
       "      <td>8.50000</td>\n",
       "      <td>9.50000</td>\n",
       "      <td>10.30000</td>\n",
       "      <td>11.3000</td>\n",
       "      <td>14.00000</td>\n",
       "    </tr>\n",
       "  </tbody>\n",
       "</table>\n",
       "</div>"
      ],
      "text/plain": [
       "                       count        mean        std      min       25%  \\\n",
       "fixed acidity         3155.0    7.221616   1.325297  3.80000   6.40000   \n",
       "volatile acidity      3155.0    0.338929   0.162476  0.08000   0.23000   \n",
       "citric acid           3155.0    0.321569   0.147970  0.00000   0.25000   \n",
       "residual sugar        3155.0    5.155911   4.639632  0.60000   1.80000   \n",
       "chlorides             3155.0    0.056976   0.036802  0.01200   0.03800   \n",
       "free sulfur dioxide   3155.0   30.388590  17.236784  1.00000  17.00000   \n",
       "total sulfur dioxide  3155.0  115.062282  56.706617  6.00000  75.00000   \n",
       "density               3155.0    0.994633   0.003005  0.98711   0.99232   \n",
       "pH                    3155.0    3.223201   0.161272  2.72000   3.11000   \n",
       "sulphates             3155.0    0.534051   0.149149  0.22000   0.43000   \n",
       "alcohol               3155.0   10.504466   1.154654  8.50000   9.50000   \n",
       "\n",
       "                            50%       75%        max  \n",
       "fixed acidity           7.00000    7.7000   15.60000  \n",
       "volatile acidity        0.29000    0.4000    1.24000  \n",
       "citric acid             0.31000    0.4000    1.66000  \n",
       "residual sugar          2.80000    7.6500   65.80000  \n",
       "chlorides               0.04700    0.0660    0.61100  \n",
       "free sulfur dioxide    28.00000   41.0000  131.00000  \n",
       "total sulfur dioxide  117.00000  156.0000  344.00000  \n",
       "density                 0.99481    0.9968    1.03898  \n",
       "pH                      3.21000    3.3300    4.01000  \n",
       "sulphates               0.51000    0.6000    1.95000  \n",
       "alcohol                10.30000   11.3000   14.00000  "
      ]
     },
     "execution_count": 19,
     "metadata": {},
     "output_type": "execute_result"
    }
   ],
   "source": [
    "train_stats"
   ]
  },
  {
   "cell_type": "code",
   "execution_count": 20,
   "metadata": {
    "colab": {},
    "colab_type": "code",
    "id": "Z_fs14XQqZVP"
   },
   "outputs": [],
   "source": [
    "def format_output(data):\n",
    "    is_red = data.pop('is_red')\n",
    "    is_red = np.array(is_red)\n",
    "    quality = data.pop('quality')\n",
    "    quality = np.array(quality)\n",
    "    return (quality, is_red)"
   ]
  },
  {
   "cell_type": "code",
   "execution_count": 21,
   "metadata": {
    "colab": {},
    "colab_type": "code",
    "deletable": false,
    "id": "8L3ZZe1fQicm",
    "nbgrader": {
     "cell_type": "code",
     "checksum": "7a86809e54895a816434c48dc903f55d",
     "grade": false,
     "grade_id": "cell-5c30fa2c2a354b0f",
     "locked": false,
     "schema_version": 3,
     "solution": true,
     "task": false
    }
   },
   "outputs": [],
   "source": [
    "# format the output of the train set\n",
    "train_Y = format_output(train)\n",
    "\n",
    "# format the output of the val set\n",
    "val_Y = format_output(val)\n",
    "    \n",
    "# # format the output of the test set\n",
    "test_Y = format_output(test)"
   ]
  },
  {
   "cell_type": "code",
   "execution_count": 23,
   "metadata": {},
   "outputs": [
    {
     "data": {
      "text/html": [
       "<div>\n",
       "<style scoped>\n",
       "    .dataframe tbody tr th:only-of-type {\n",
       "        vertical-align: middle;\n",
       "    }\n",
       "\n",
       "    .dataframe tbody tr th {\n",
       "        vertical-align: top;\n",
       "    }\n",
       "\n",
       "    .dataframe thead th {\n",
       "        text-align: right;\n",
       "    }\n",
       "</style>\n",
       "<table border=\"1\" class=\"dataframe\">\n",
       "  <thead>\n",
       "    <tr style=\"text-align: right;\">\n",
       "      <th></th>\n",
       "      <th>fixed acidity</th>\n",
       "      <th>volatile acidity</th>\n",
       "      <th>citric acid</th>\n",
       "      <th>residual sugar</th>\n",
       "      <th>chlorides</th>\n",
       "      <th>free sulfur dioxide</th>\n",
       "      <th>total sulfur dioxide</th>\n",
       "      <th>density</th>\n",
       "      <th>pH</th>\n",
       "      <th>sulphates</th>\n",
       "      <th>alcohol</th>\n",
       "    </tr>\n",
       "  </thead>\n",
       "  <tbody>\n",
       "    <tr>\n",
       "      <th>225</th>\n",
       "      <td>7.5</td>\n",
       "      <td>0.65</td>\n",
       "      <td>0.18</td>\n",
       "      <td>7.0</td>\n",
       "      <td>0.088</td>\n",
       "      <td>27.0</td>\n",
       "      <td>94.0</td>\n",
       "      <td>0.99915</td>\n",
       "      <td>3.38</td>\n",
       "      <td>0.77</td>\n",
       "      <td>9.4</td>\n",
       "    </tr>\n",
       "    <tr>\n",
       "      <th>3557</th>\n",
       "      <td>6.3</td>\n",
       "      <td>0.27</td>\n",
       "      <td>0.29</td>\n",
       "      <td>12.2</td>\n",
       "      <td>0.044</td>\n",
       "      <td>59.0</td>\n",
       "      <td>196.0</td>\n",
       "      <td>0.99782</td>\n",
       "      <td>3.14</td>\n",
       "      <td>0.40</td>\n",
       "      <td>8.8</td>\n",
       "    </tr>\n",
       "    <tr>\n",
       "      <th>3825</th>\n",
       "      <td>8.8</td>\n",
       "      <td>0.27</td>\n",
       "      <td>0.25</td>\n",
       "      <td>5.0</td>\n",
       "      <td>0.024</td>\n",
       "      <td>52.0</td>\n",
       "      <td>99.0</td>\n",
       "      <td>0.99250</td>\n",
       "      <td>2.87</td>\n",
       "      <td>0.49</td>\n",
       "      <td>11.4</td>\n",
       "    </tr>\n",
       "    <tr>\n",
       "      <th>1740</th>\n",
       "      <td>6.4</td>\n",
       "      <td>0.45</td>\n",
       "      <td>0.07</td>\n",
       "      <td>1.1</td>\n",
       "      <td>0.030</td>\n",
       "      <td>10.0</td>\n",
       "      <td>131.0</td>\n",
       "      <td>0.99050</td>\n",
       "      <td>2.97</td>\n",
       "      <td>0.28</td>\n",
       "      <td>10.8</td>\n",
       "    </tr>\n",
       "    <tr>\n",
       "      <th>1221</th>\n",
       "      <td>7.2</td>\n",
       "      <td>0.53</td>\n",
       "      <td>0.13</td>\n",
       "      <td>2.0</td>\n",
       "      <td>0.058</td>\n",
       "      <td>18.0</td>\n",
       "      <td>22.0</td>\n",
       "      <td>0.99573</td>\n",
       "      <td>3.21</td>\n",
       "      <td>0.68</td>\n",
       "      <td>9.9</td>\n",
       "    </tr>\n",
       "  </tbody>\n",
       "</table>\n",
       "</div>"
      ],
      "text/plain": [
       "      fixed acidity  volatile acidity  citric acid  residual sugar  chlorides  \\\n",
       "225             7.5              0.65         0.18             7.0      0.088   \n",
       "3557            6.3              0.27         0.29            12.2      0.044   \n",
       "3825            8.8              0.27         0.25             5.0      0.024   \n",
       "1740            6.4              0.45         0.07             1.1      0.030   \n",
       "1221            7.2              0.53         0.13             2.0      0.058   \n",
       "\n",
       "      free sulfur dioxide  total sulfur dioxide  density    pH  sulphates  \\\n",
       "225                  27.0                  94.0  0.99915  3.38       0.77   \n",
       "3557                 59.0                 196.0  0.99782  3.14       0.40   \n",
       "3825                 52.0                  99.0  0.99250  2.87       0.49   \n",
       "1740                 10.0                 131.0  0.99050  2.97       0.28   \n",
       "1221                 18.0                  22.0  0.99573  3.21       0.68   \n",
       "\n",
       "      alcohol  \n",
       "225       9.4  \n",
       "3557      8.8  \n",
       "3825     11.4  \n",
       "1740     10.8  \n",
       "1221      9.9  "
      ]
     },
     "execution_count": 23,
     "metadata": {},
     "output_type": "execute_result"
    }
   ],
   "source": [
    "train.head()"
   ]
  },
  {
   "cell_type": "code",
   "execution_count": 26,
   "metadata": {
    "colab": {},
    "colab_type": "code",
    "id": "WWiZPAHCLjUs"
   },
   "outputs": [],
   "source": [
    "def norm(x):\n",
    "    return (x - train_stats['mean']) / train_stats['std']"
   ]
  },
  {
   "cell_type": "code",
   "execution_count": 27,
   "metadata": {
    "colab": {},
    "colab_type": "code",
    "deletable": false,
    "id": "JEaOi2I2Lk69",
    "nbgrader": {
     "cell_type": "code",
     "checksum": "6bc0cdcb563d192f271067aa3373ff32",
     "grade": false,
     "grade_id": "cell-d8416d975c371095",
     "locked": false,
     "schema_version": 3,
     "solution": true,
     "task": false
    }
   },
   "outputs": [],
   "source": [
    "# normalize the train set\n",
    "norm_train_X = norm(train)\n",
    "    \n",
    "# normalize the val set\n",
    "norm_val_X = norm(val)\n",
    "    \n",
    "# normalize the test set\n",
    "norm_test_X = norm(test)"
   ]
  },
  {
   "cell_type": "code",
   "execution_count": 29,
   "metadata": {
    "colab": {},
    "colab_type": "code",
    "deletable": false,
    "id": "Rhcns3oTFkM6",
    "nbgrader": {
     "cell_type": "code",
     "checksum": "74b031247e569526552bf13a034a1c07",
     "grade": false,
     "grade_id": "cell-73fceedad1fe351c",
     "locked": false,
     "schema_version": 3,
     "solution": true,
     "task": false
    }
   },
   "outputs": [],
   "source": [
    "def base_model(inputs):\n",
    "    \n",
    "    # Connect a Dense layer with 128 neurons and a relu activation\n",
    "    x = Dense(128, activation='relu')(inputs)\n",
    "    \n",
    "    # Connect another Dense layer with 128 neurons and a relu activation\n",
    "    x = Dense(128, activation='relu')(x)\n",
    "    \n",
    "    return x\n",
    "\n",
    "  "
   ]
  },
  {
   "cell_type": "code",
   "execution_count": 31,
   "metadata": {
    "colab": {},
    "colab_type": "code",
    "deletable": false,
    "id": "n5UGF8PMVLPt",
    "nbgrader": {
     "cell_type": "code",
     "checksum": "76d35b90d20cdcbb22986cd8211057de",
     "grade": false,
     "grade_id": "cell-19e285f482f021fb",
     "locked": false,
     "schema_version": 3,
     "solution": true,
     "task": false
    }
   },
   "outputs": [],
   "source": [
    "def final_model(inputs):\n",
    "    \n",
    "    # Get the base model\n",
    "    x = base_model(inputs)\n",
    "\n",
    "    # Connect the output Dense layer for regression\n",
    "    wine_quality = Dense(units=1, name='wine_quality')(x)\n",
    "\n",
    "    # Connect the output Dense layer for classification. This will use a sigmoid activation.\n",
    "    wine_type = Dense(units=1, activation='sigmoid', name='wine_type')(x)\n",
    "\n",
    "    # Define the model using the input and output layers\n",
    "    model = Model(inputs=inputs, outputs=[wine_quality, wine_type])\n",
    "\n",
    "    return model\n"
   ]
  },
  {
   "cell_type": "code",
   "execution_count": 38,
   "metadata": {
    "colab": {},
    "colab_type": "code",
    "deletable": false,
    "id": "LK11duUbUjmh",
    "nbgrader": {
     "cell_type": "code",
     "checksum": "22f45067ca69eb2ccadb43874dbcc27b",
     "grade": false,
     "grade_id": "cell-81afdc4dcca51d5e",
     "locked": false,
     "schema_version": 3,
     "solution": true,
     "task": false
    }
   },
   "outputs": [],
   "source": [
    "inputs = tf.keras.layers.Input(shape=(11,))\n",
    "rms = tf.keras.optimizers.RMSprop(lr=0.0001)\n",
    "model = final_model(inputs)\n",
    "\n",
    "model.compile(optimizer=rms, \n",
    "              loss={'wine_type': 'binary_crossentropy',\n",
    "                    'wine_quality': 'mean_squared_error'\n",
    "                   },\n",
    "              metrics={'wine_type': 'accuracy',\n",
    "                       'wine_quality': tf.keras.metrics.RootMeanSquaredError()\n",
    "                     }\n",
    "             )\n"
   ]
  },
  {
   "cell_type": "code",
   "execution_count": 40,
   "metadata": {
    "colab": {},
    "colab_type": "code",
    "deletable": false,
    "id": "_eiZkle4XwiY",
    "nbgrader": {
     "cell_type": "code",
     "checksum": "d1a4565296017a0611c6f2de675f96cf",
     "grade": false,
     "grade_id": "cell-0bb56262896f6680",
     "locked": false,
     "schema_version": 3,
     "solution": true,
     "task": false
    }
   },
   "outputs": [
    {
     "name": "stdout",
     "output_type": "stream",
     "text": [
      "Train on 3155 samples, validate on 789 samples\n",
      "Epoch 1/40\n",
      "3155/3155 [==============================] - 1s 403us/sample - loss: 27.7421 - wine_quality_loss: 26.9756 - wine_type_loss: 0.7341 - wine_quality_root_mean_squared_error: 5.1969 - wine_type_accuracy: 0.3239 - val_loss: 19.5075 - val_wine_quality_loss: 18.8050 - val_wine_type_loss: 0.7142 - val_wine_quality_root_mean_squared_error: 4.3351 - val_wine_type_accuracy: 0.5120\n",
      "Epoch 2/40\n",
      "3155/3155 [==============================] - 0s 140us/sample - loss: 13.2503 - wine_quality_loss: 12.5308 - wine_type_loss: 0.6918 - wine_quality_root_mean_squared_error: 3.5438 - wine_type_accuracy: 0.6377 - val_loss: 7.8420 - val_wine_quality_loss: 7.2220 - val_wine_type_loss: 0.6640 - val_wine_quality_root_mean_squared_error: 2.6792 - val_wine_type_accuracy: 0.7186\n",
      "Epoch 3/40\n",
      "3155/3155 [==============================] - 0s 128us/sample - loss: 5.4056 - wine_quality_loss: 4.7768 - wine_type_loss: 0.6189 - wine_quality_root_mean_squared_error: 2.1878 - wine_type_accuracy: 0.7429 - val_loss: 3.5144 - val_wine_quality_loss: 2.9998 - val_wine_type_loss: 0.5713 - val_wine_quality_root_mean_squared_error: 1.7156 - val_wine_type_accuracy: 0.7338\n",
      "Epoch 4/40\n",
      "3155/3155 [==============================] - 0s 126us/sample - loss: 3.2781 - wine_quality_loss: 2.7698 - wine_type_loss: 0.5109 - wine_quality_root_mean_squared_error: 1.6635 - wine_type_accuracy: 0.7477 - val_loss: 2.7218 - val_wine_quality_loss: 2.3013 - val_wine_type_loss: 0.4597 - val_wine_quality_root_mean_squared_error: 1.5040 - val_wine_type_accuracy: 0.7478\n",
      "Epoch 5/40\n",
      "3155/3155 [==============================] - 0s 124us/sample - loss: 2.6538 - wine_quality_loss: 2.2456 - wine_type_loss: 0.4100 - wine_quality_root_mean_squared_error: 1.4977 - wine_type_accuracy: 0.7937 - val_loss: 2.3198 - val_wine_quality_loss: 1.9770 - val_wine_type_loss: 0.3703 - val_wine_quality_root_mean_squared_error: 1.3963 - val_wine_type_accuracy: 0.8568\n",
      "Epoch 6/40\n",
      "3155/3155 [==============================] - 0s 108us/sample - loss: 2.2620 - wine_quality_loss: 1.9340 - wine_type_loss: 0.3262 - wine_quality_root_mean_squared_error: 1.3914 - wine_type_accuracy: 0.9119 - val_loss: 1.9995 - val_wine_quality_loss: 1.7271 - val_wine_type_loss: 0.2921 - val_wine_quality_root_mean_squared_error: 1.3067 - val_wine_type_accuracy: 0.9379\n",
      "Epoch 7/40\n",
      "3155/3155 [==============================] - 0s 124us/sample - loss: 1.9621 - wine_quality_loss: 1.7061 - wine_type_loss: 0.2531 - wine_quality_root_mean_squared_error: 1.3072 - wine_type_accuracy: 0.9610 - val_loss: 1.7777 - val_wine_quality_loss: 1.5666 - val_wine_type_loss: 0.2275 - val_wine_quality_root_mean_squared_error: 1.2451 - val_wine_type_accuracy: 0.9708\n",
      "Epoch 8/40\n",
      "3155/3155 [==============================] - 0s 121us/sample - loss: 1.7627 - wine_quality_loss: 1.5616 - wine_type_loss: 0.1991 - wine_quality_root_mean_squared_error: 1.2504 - wine_type_accuracy: 0.9759 - val_loss: 1.5838 - val_wine_quality_loss: 1.4174 - val_wine_type_loss: 0.1772 - val_wine_quality_root_mean_squared_error: 1.1860 - val_wine_type_accuracy: 0.9823\n",
      "Epoch 9/40\n",
      "3155/3155 [==============================] - 0s 121us/sample - loss: 1.5816 - wine_quality_loss: 1.4927 - wine_type_loss: 0.1564 - wine_quality_root_mean_squared_error: 1.1937 - wine_type_accuracy: 0.9829 - val_loss: 1.4553 - val_wine_quality_loss: 1.3227 - val_wine_type_loss: 0.1397 - val_wine_quality_root_mean_squared_error: 1.1469 - val_wine_type_accuracy: 0.9823\n",
      "Epoch 10/40\n",
      "3155/3155 [==============================] - 0s 108us/sample - loss: 1.4526 - wine_quality_loss: 1.3223 - wine_type_loss: 0.1282 - wine_quality_root_mean_squared_error: 1.1508 - wine_type_accuracy: 0.9864 - val_loss: 1.3226 - val_wine_quality_loss: 1.2122 - val_wine_type_loss: 0.1161 - val_wine_quality_root_mean_squared_error: 1.0983 - val_wine_type_accuracy: 0.9848\n",
      "Epoch 11/40\n",
      "3155/3155 [==============================] - 0s 124us/sample - loss: 1.3414 - wine_quality_loss: 1.2351 - wine_type_loss: 0.1081 - wine_quality_root_mean_squared_error: 1.1105 - wine_type_accuracy: 0.9876 - val_loss: 1.2172 - val_wine_quality_loss: 1.1237 - val_wine_type_loss: 0.0977 - val_wine_quality_root_mean_squared_error: 1.0580 - val_wine_type_accuracy: 0.9848\n",
      "Epoch 12/40\n",
      "3155/3155 [==============================] - 0s 125us/sample - loss: 1.2517 - wine_quality_loss: 1.1601 - wine_type_loss: 0.0925 - wine_quality_root_mean_squared_error: 1.0766 - wine_type_accuracy: 0.9886 - val_loss: 1.1402 - val_wine_quality_loss: 1.0591 - val_wine_type_loss: 0.0839 - val_wine_quality_root_mean_squared_error: 1.0276 - val_wine_type_accuracy: 0.9873\n",
      "Epoch 13/40\n",
      "3155/3155 [==============================] - 0s 122us/sample - loss: 1.1604 - wine_quality_loss: 1.0790 - wine_type_loss: 0.0810 - wine_quality_root_mean_squared_error: 1.0390 - wine_type_accuracy: 0.9895 - val_loss: 1.0462 - val_wine_quality_loss: 0.9750 - val_wine_type_loss: 0.0736 - val_wine_quality_root_mean_squared_error: 0.9861 - val_wine_type_accuracy: 0.9873\n",
      "Epoch 14/40\n",
      "3155/3155 [==============================] - 0s 103us/sample - loss: 1.0840 - wine_quality_loss: 1.0102 - wine_type_loss: 0.0722 - wine_quality_root_mean_squared_error: 1.0058 - wine_type_accuracy: 0.9905 - val_loss: 0.9843 - val_wine_quality_loss: 0.9200 - val_wine_type_loss: 0.0659 - val_wine_quality_root_mean_squared_error: 0.9582 - val_wine_type_accuracy: 0.9899\n",
      "Epoch 15/40\n",
      "3155/3155 [==============================] - 0s 122us/sample - loss: 1.0173 - wine_quality_loss: 0.9514 - wine_type_loss: 0.0656 - wine_quality_root_mean_squared_error: 0.9755 - wine_type_accuracy: 0.9908 - val_loss: 0.9184 - val_wine_quality_loss: 0.8598 - val_wine_type_loss: 0.0600 - val_wine_quality_root_mean_squared_error: 0.9263 - val_wine_type_accuracy: 0.9911\n",
      "Epoch 16/40\n",
      "3155/3155 [==============================] - 0s 124us/sample - loss: 0.9582 - wine_quality_loss: 0.8963 - wine_type_loss: 0.0604 - wine_quality_root_mean_squared_error: 0.9475 - wine_type_accuracy: 0.9908 - val_loss: 0.8728 - val_wine_quality_loss: 0.8181 - val_wine_type_loss: 0.0552 - val_wine_quality_root_mean_squared_error: 0.9040 - val_wine_type_accuracy: 0.9911\n",
      "Epoch 17/40\n",
      "3155/3155 [==============================] - 0s 121us/sample - loss: 0.9007 - wine_quality_loss: 0.8434 - wine_type_loss: 0.0561 - wine_quality_root_mean_squared_error: 0.9189 - wine_type_accuracy: 0.9911 - val_loss: 0.8219 - val_wine_quality_loss: 0.7707 - val_wine_type_loss: 0.0515 - val_wine_quality_root_mean_squared_error: 0.8776 - val_wine_type_accuracy: 0.9911\n",
      "Epoch 18/40\n",
      "3155/3155 [==============================] - 0s 105us/sample - loss: 0.8534 - wine_quality_loss: 0.8004 - wine_type_loss: 0.0543 - wine_quality_root_mean_squared_error: 0.8946 - wine_type_accuracy: 0.9914 - val_loss: 0.7755 - val_wine_quality_loss: 0.7265 - val_wine_type_loss: 0.0486 - val_wine_quality_root_mean_squared_error: 0.8523 - val_wine_type_accuracy: 0.9911\n",
      "Epoch 19/40\n",
      "3155/3155 [==============================] - 0s 120us/sample - loss: 0.8019 - wine_quality_loss: 0.7520 - wine_type_loss: 0.0503 - wine_quality_root_mean_squared_error: 0.8669 - wine_type_accuracy: 0.9914 - val_loss: 0.7424 - val_wine_quality_loss: 0.6949 - val_wine_type_loss: 0.0463 - val_wine_quality_root_mean_squared_error: 0.8341 - val_wine_type_accuracy: 0.9911\n",
      "Epoch 20/40\n",
      "3155/3155 [==============================] - 0s 121us/sample - loss: 0.7587 - wine_quality_loss: 0.7110 - wine_type_loss: 0.0481 - wine_quality_root_mean_squared_error: 0.8429 - wine_type_accuracy: 0.9914 - val_loss: 0.6913 - val_wine_quality_loss: 0.6460 - val_wine_type_loss: 0.0444 - val_wine_quality_root_mean_squared_error: 0.8040 - val_wine_type_accuracy: 0.9911\n",
      "Epoch 21/40\n",
      "3155/3155 [==============================] - 0s 106us/sample - loss: 0.7168 - wine_quality_loss: 0.6694 - wine_type_loss: 0.0461 - wine_quality_root_mean_squared_error: 0.8190 - wine_type_accuracy: 0.9914 - val_loss: 0.6509 - val_wine_quality_loss: 0.6074 - val_wine_type_loss: 0.0425 - val_wine_quality_root_mean_squared_error: 0.7798 - val_wine_type_accuracy: 0.9911\n",
      "Epoch 22/40\n",
      "3155/3155 [==============================] - 0s 121us/sample - loss: 0.6805 - wine_quality_loss: 0.6347 - wine_type_loss: 0.0444 - wine_quality_root_mean_squared_error: 0.7975 - wine_type_accuracy: 0.9918 - val_loss: 0.6272 - val_wine_quality_loss: 0.5844 - val_wine_type_loss: 0.0413 - val_wine_quality_root_mean_squared_error: 0.7652 - val_wine_type_accuracy: 0.9911\n",
      "Epoch 23/40\n",
      "3155/3155 [==============================] - 0s 104us/sample - loss: 0.6450 - wine_quality_loss: 0.6014 - wine_type_loss: 0.0429 - wine_quality_root_mean_squared_error: 0.7758 - wine_type_accuracy: 0.9921 - val_loss: 0.5905 - val_wine_quality_loss: 0.5495 - val_wine_type_loss: 0.0400 - val_wine_quality_root_mean_squared_error: 0.7417 - val_wine_type_accuracy: 0.9911\n",
      "Epoch 24/40\n",
      "3155/3155 [==============================] - 0s 108us/sample - loss: 0.6128 - wine_quality_loss: 0.5703 - wine_type_loss: 0.0418 - wine_quality_root_mean_squared_error: 0.7557 - wine_type_accuracy: 0.9924 - val_loss: 0.5625 - val_wine_quality_loss: 0.5226 - val_wine_type_loss: 0.0390 - val_wine_quality_root_mean_squared_error: 0.7233 - val_wine_type_accuracy: 0.9911\n",
      "Epoch 25/40\n",
      "3155/3155 [==============================] - 0s 120us/sample - loss: 0.5836 - wine_quality_loss: 0.5434 - wine_type_loss: 0.0405 - wine_quality_root_mean_squared_error: 0.7369 - wine_type_accuracy: 0.9924 - val_loss: 0.5428 - val_wine_quality_loss: 0.5029 - val_wine_type_loss: 0.0382 - val_wine_quality_root_mean_squared_error: 0.7100 - val_wine_type_accuracy: 0.9911\n",
      "Epoch 26/40\n",
      "3155/3155 [==============================] - 0s 121us/sample - loss: 0.5567 - wine_quality_loss: 0.5175 - wine_type_loss: 0.0396 - wine_quality_root_mean_squared_error: 0.7190 - wine_type_accuracy: 0.9924 - val_loss: 0.5209 - val_wine_quality_loss: 0.4821 - val_wine_type_loss: 0.0372 - val_wine_quality_root_mean_squared_error: 0.6952 - val_wine_type_accuracy: 0.9911\n",
      "Epoch 27/40\n",
      "3155/3155 [==============================] - 0s 107us/sample - loss: 0.5344 - wine_quality_loss: 0.4959 - wine_type_loss: 0.0389 - wine_quality_root_mean_squared_error: 0.7039 - wine_type_accuracy: 0.9927 - val_loss: 0.4971 - val_wine_quality_loss: 0.4589 - val_wine_type_loss: 0.0365 - val_wine_quality_root_mean_squared_error: 0.6783 - val_wine_type_accuracy: 0.9911\n",
      "Epoch 28/40\n",
      "3155/3155 [==============================] - 0s 121us/sample - loss: 0.5120 - wine_quality_loss: 0.4741 - wine_type_loss: 0.0381 - wine_quality_root_mean_squared_error: 0.6884 - wine_type_accuracy: 0.9930 - val_loss: 0.4852 - val_wine_quality_loss: 0.4473 - val_wine_type_loss: 0.0362 - val_wine_quality_root_mean_squared_error: 0.6698 - val_wine_type_accuracy: 0.9911\n",
      "Epoch 29/40\n",
      "3155/3155 [==============================] - 0s 121us/sample - loss: 0.4919 - wine_quality_loss: 0.4539 - wine_type_loss: 0.0377 - wine_quality_root_mean_squared_error: 0.6741 - wine_type_accuracy: 0.9927 - val_loss: 0.4617 - val_wine_quality_loss: 0.4247 - val_wine_type_loss: 0.0357 - val_wine_quality_root_mean_squared_error: 0.6524 - val_wine_type_accuracy: 0.9911\n",
      "Epoch 30/40\n",
      "3155/3155 [==============================] - 0s 107us/sample - loss: 0.4759 - wine_quality_loss: 0.4386 - wine_type_loss: 0.0368 - wine_quality_root_mean_squared_error: 0.6626 - wine_type_accuracy: 0.9930 - val_loss: 0.4515 - val_wine_quality_loss: 0.4148 - val_wine_type_loss: 0.0351 - val_wine_quality_root_mean_squared_error: 0.6450 - val_wine_type_accuracy: 0.9911\n",
      "Epoch 31/40\n",
      "3155/3155 [==============================] - 0s 122us/sample - loss: 0.4601 - wine_quality_loss: 0.4239 - wine_type_loss: 0.0363 - wine_quality_root_mean_squared_error: 0.6510 - wine_type_accuracy: 0.9933 - val_loss: 0.4395 - val_wine_quality_loss: 0.4031 - val_wine_type_loss: 0.0350 - val_wine_quality_root_mean_squared_error: 0.6357 - val_wine_type_accuracy: 0.9911\n",
      "Epoch 32/40\n",
      "3155/3155 [==============================] - 0s 121us/sample - loss: 0.4470 - wine_quality_loss: 0.4106 - wine_type_loss: 0.0356 - wine_quality_root_mean_squared_error: 0.6413 - wine_type_accuracy: 0.9930 - val_loss: 0.4271 - val_wine_quality_loss: 0.3909 - val_wine_type_loss: 0.0345 - val_wine_quality_root_mean_squared_error: 0.6262 - val_wine_type_accuracy: 0.9911\n",
      "Epoch 33/40\n",
      "3155/3155 [==============================] - 0s 105us/sample - loss: 0.4339 - wine_quality_loss: 0.3987 - wine_type_loss: 0.0352 - wine_quality_root_mean_squared_error: 0.6314 - wine_type_accuracy: 0.9933 - val_loss: 0.4148 - val_wine_quality_loss: 0.3792 - val_wine_type_loss: 0.0341 - val_wine_quality_root_mean_squared_error: 0.6167 - val_wine_type_accuracy: 0.9924\n",
      "Epoch 34/40\n",
      "3155/3155 [==============================] - 0s 124us/sample - loss: 0.4223 - wine_quality_loss: 0.3878 - wine_type_loss: 0.0346 - wine_quality_root_mean_squared_error: 0.6225 - wine_type_accuracy: 0.9937 - val_loss: 0.4150 - val_wine_quality_loss: 0.3797 - val_wine_type_loss: 0.0339 - val_wine_quality_root_mean_squared_error: 0.6171 - val_wine_type_accuracy: 0.9924\n",
      "Epoch 35/40\n",
      "3155/3155 [==============================] - 0s 122us/sample - loss: 0.4137 - wine_quality_loss: 0.3792 - wine_type_loss: 0.0345 - wine_quality_root_mean_squared_error: 0.6159 - wine_type_accuracy: 0.9940 - val_loss: 0.3982 - val_wine_quality_loss: 0.3634 - val_wine_type_loss: 0.0336 - val_wine_quality_root_mean_squared_error: 0.6035 - val_wine_type_accuracy: 0.9924\n",
      "Epoch 36/40\n",
      "3155/3155 [==============================] - 0s 132us/sample - loss: 0.4036 - wine_quality_loss: 0.3693 - wine_type_loss: 0.0352 - wine_quality_root_mean_squared_error: 0.6079 - wine_type_accuracy: 0.9943 - val_loss: 0.4021 - val_wine_quality_loss: 0.3673 - val_wine_type_loss: 0.0333 - val_wine_quality_root_mean_squared_error: 0.6069 - val_wine_type_accuracy: 0.9924\n",
      "Epoch 37/40\n",
      "3155/3155 [==============================] - 0s 122us/sample - loss: 0.3949 - wine_quality_loss: 0.3609 - wine_type_loss: 0.0336 - wine_quality_root_mean_squared_error: 0.6010 - wine_type_accuracy: 0.9940 - val_loss: 0.3932 - val_wine_quality_loss: 0.3591 - val_wine_type_loss: 0.0328 - val_wine_quality_root_mean_squared_error: 0.6000 - val_wine_type_accuracy: 0.9924\n",
      "Epoch 38/40\n",
      "3155/3155 [==============================] - 0s 121us/sample - loss: 0.3910 - wine_quality_loss: 0.3577 - wine_type_loss: 0.0344 - wine_quality_root_mean_squared_error: 0.5981 - wine_type_accuracy: 0.9940 - val_loss: 0.3800 - val_wine_quality_loss: 0.3463 - val_wine_type_loss: 0.0325 - val_wine_quality_root_mean_squared_error: 0.5892 - val_wine_type_accuracy: 0.9924\n",
      "Epoch 39/40\n",
      "3155/3155 [==============================] - 0s 107us/sample - loss: 0.3828 - wine_quality_loss: 0.3495 - wine_type_loss: 0.0329 - wine_quality_root_mean_squared_error: 0.5915 - wine_type_accuracy: 0.9940 - val_loss: 0.3774 - val_wine_quality_loss: 0.3440 - val_wine_type_loss: 0.0324 - val_wine_quality_root_mean_squared_error: 0.5870 - val_wine_type_accuracy: 0.9924\n",
      "Epoch 40/40\n",
      "3155/3155 [==============================] - 0s 122us/sample - loss: 0.3780 - wine_quality_loss: 0.3467 - wine_type_loss: 0.0325 - wine_quality_root_mean_squared_error: 0.5876 - wine_type_accuracy: 0.9946 - val_loss: 0.3688 - val_wine_quality_loss: 0.3357 - val_wine_type_loss: 0.0321 - val_wine_quality_root_mean_squared_error: 0.5799 - val_wine_type_accuracy: 0.9924\n"
     ]
    }
   ],
   "source": [
    "history = model.fit(norm_train_X, train_Y,\n",
    "                    epochs=40, validation_data=(norm_val_X, val_Y))"
   ]
  },
  {
   "cell_type": "code",
   "execution_count": 42,
   "metadata": {
    "colab": {},
    "colab_type": "code",
    "id": "CubF2J2gSf6q"
   },
   "outputs": [
    {
     "name": "stdout",
     "output_type": "stream",
     "text": [
      "789/789 [==============================] - 0s 25us/sample - loss: 0.3688 - wine_quality_loss: 0.3357 - wine_type_loss: 0.0321 - wine_quality_root_mean_squared_error: 0.5799 - wine_type_accuracy: 0.9924\n",
      "\n",
      "loss: 0.36881963657486727\n",
      "wine_quality_loss: 0.3356698751449585\n",
      "wine_type_loss: 0.032102227210998535\n",
      "wine_quality_rmse: 0.5799434185028076\n",
      "wine_type_accuracy: 0.9923954606056213\n"
     ]
    }
   ],
   "source": [
    "# Gather the training metrics\n",
    "loss, wine_quality_loss, wine_type_loss, wine_quality_rmse, wine_type_accuracy = model.evaluate(x=norm_val_X, y=val_Y)\n",
    "\n",
    "print()\n",
    "print(f'loss: {loss}')\n",
    "print(f'wine_quality_loss: {wine_quality_loss}')\n",
    "print(f'wine_type_loss: {wine_type_loss}')\n",
    "print(f'wine_quality_rmse: {wine_quality_rmse}')\n",
    "print(f'wine_type_accuracy: {wine_type_accuracy}')\n",
    "\n"
   ]
  },
  {
   "cell_type": "code",
   "execution_count": 43,
   "metadata": {
    "colab": {},
    "colab_type": "code",
    "id": "tBq9PEeAaW-Y"
   },
   "outputs": [],
   "source": [
    "predictions = model.predict(norm_test_X)\n",
    "quality_pred = predictions[0]\n",
    "type_pred = predictions[1]"
   ]
  },
  {
   "cell_type": "code",
   "execution_count": 46,
   "metadata": {
    "colab": {},
    "colab_type": "code",
    "id": "62gEOFUhn6aQ"
   },
   "outputs": [],
   "source": [
    "def plot_metrics(metric_name, title, ylim=5):\n",
    "    plt.title(title)\n",
    "    plt.ylim(0,ylim)\n",
    "    plt.plot(history.history[metric_name],color='blue',label=metric_name)\n",
    "    plt.plot(history.history['val_' + metric_name],color='green',label='val_' + metric_name)\n"
   ]
  },
  {
   "cell_type": "code",
   "execution_count": 47,
   "metadata": {
    "colab": {},
    "colab_type": "code",
    "id": "6rfgSx7uz5dj"
   },
   "outputs": [],
   "source": [
    "def plot_confusion_matrix(y_true, y_pred, title='', labels=[0,1]):\n",
    "    cm = confusion_matrix(test_Y[1], np.round(type_pred), labels=[0, 1])\n",
    "    disp = ConfusionMatrixDisplay(confusion_matrix=cm,\n",
    "                                  display_labels=[0, 1])\n",
    "    disp.plot(values_format='d');"
   ]
  },
  {
   "cell_type": "code",
   "execution_count": 48,
   "metadata": {
    "colab": {},
    "colab_type": "code",
    "id": "dfVLIqi017Vf"
   },
   "outputs": [],
   "source": [
    "def plot_diff(y_true, y_pred, title = '' ):\n",
    "    plt.scatter(y_true, y_pred)\n",
    "    plt.title(title)\n",
    "    plt.xlabel('True Values')\n",
    "    plt.ylabel('Predictions')\n",
    "    plt.axis('equal')\n",
    "    plt.axis('square')\n",
    "    plt.plot([-100, 100], [-100, 100])\n",
    "    return plt"
   ]
  },
  {
   "cell_type": "code",
   "execution_count": 49,
   "metadata": {
    "colab": {},
    "colab_type": "code",
    "id": "f3MwZ5J1pOfj"
   },
   "outputs": [
    {
     "data": {
      "image/png": "[encoded data removed]",
      "text/plain": [
       "<Figure size 432x288 with 1 Axes>"
      ]
     },
     "metadata": {
      "needs_background": "light"
     },
     "output_type": "display_data"
    }
   ],
   "source": [
    "plot_metrics('wine_quality_root_mean_squared_error', 'RMSE', ylim=2)"
   ]
  },
  {
   "cell_type": "code",
   "execution_count": 50,
   "metadata": {
    "colab": {},
    "colab_type": "code",
    "id": "QIAxEezCppnd"
   },
   "outputs": [
    {
     "data": {
      "image/png": "[encoded data removed]",
      "text/plain": [
       "<Figure size 432x288 with 1 Axes>"
      ]
     },
     "metadata": {
      "needs_background": "light"
     },
     "output_type": "display_data"
    }
   ],
   "source": [
    "plot_metrics('wine_type_loss', 'Wine Type Loss', ylim=0.2)"
   ]
  },
  {
   "cell_type": "code",
   "execution_count": 51,
   "metadata": {
    "colab": {},
    "colab_type": "code",
    "id": "C3hvTYxIaf3n"
   },
   "outputs": [
    {
     "data": {
      "image/png": "[encoded data removed]",
      "text/plain": [
       "<Figure size 432x288 with 2 Axes>"
      ]
     },
     "metadata": {
      "needs_background": "light"
     },
     "output_type": "display_data"
    }
   ],
   "source": [
    "plot_confusion_matrix(test_Y[1], np.round(type_pred), title='Wine Type', labels = [0, 1])"
   ]
  },
  {
   "cell_type": "code",
   "execution_count": 52,
   "metadata": {
    "colab": {},
    "colab_type": "code",
    "id": "GW91ym8P2I5y"
   },
   "outputs": [
    {
     "data": {
      "image/png": "[encoded data removed]",
      "text/plain": [
       "<Figure size 432x288 with 1 Axes>"
      ]
     },
     "metadata": {
      "needs_background": "light"
     },
     "output_type": "display_data"
    }
   ],
   "source": [
    "scatter_plot = plot_diff(test_Y[0], quality_pred, title='Type')"
   ]
  }
 ],
 "metadata": {
  "colab": {
   "include_colab_link": true,
   "name": "exercise-answer.ipynb",
   "provenance": []
  },
  "kernelspec": {
   "display_name": "Python 3",
   "language": "python",
   "name": "python3"
  },
  "language_info": {
   "codemirror_mode": {
    "name": "ipython",
    "version": 3
   },
   "file_extension": ".py",
   "mimetype": "text/x-python",
   "name": "python",
   "nbconvert_exporter": "python",
   "pygments_lexer": "ipython3",
   "version": "3.7.6"
  }
 },
 "nbformat": 4,
 "nbformat_minor": 4
}
